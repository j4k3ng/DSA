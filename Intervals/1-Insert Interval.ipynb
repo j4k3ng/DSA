{
 "cells": [
  {
   "cell_type": "markdown",
   "metadata": {},
   "source": [
    "PROBLEM LINK: https://leetcode.com/problems/insert-interval\n",
    "SOLUTION LINK: https://www.youtube.com/watch?v=A8NUOmlwOlM"
   ]
  },
  {
   "cell_type": "code",
   "execution_count": null,
   "metadata": {},
   "outputs": [],
   "source": [
    "- The idea is:\n",
    "    1) IF THE NEW LIST IS ALL ON THE LEFT OF THE INTERVALS[I] => simply add the new list into the ARRAY and return the array + list from that point to the end (which is list[i:])\n",
    "    2) IF THE NEW LIST IS ALL ON THE RIGHT OF THE INTERVALS[I] => simply add the interval[i] into the ARRAY \n",
    "    3) IF THE NEW LIST IS MIXED WITH THE INTERVALS[I] => take the minimum and maximum of both list and make it the NEW LIST\n",
    "\n",
    "- EXAMPLE: INTERVALS = [[1,3], [5,7]] , NEWINTERVAL = [2,5]\n",
    "    LOOP STARTS:\n",
    "    - INTERVALS[0] = [1,3] => NEWINTERVAL is mixed (condition 3 above) so return min and max which are [1,5] so NEWINTERVALS = [1,5]\n",
    "    - INTERVALS[1] = [5,7] => NEWINTERVAL is mixed again(because share 5) so return min and max which are [1,7]\n",
    "    - end, the result is [1,7]"
   ]
  },
  {
   "cell_type": "code",
   "execution_count": 2,
   "metadata": {},
   "outputs": [
    {
     "name": "stdout",
     "output_type": "stream",
     "text": [
      "[[1, 7]]\n"
     ]
    }
   ],
   "source": [
    "def insert(intervals, newInterval):\n",
    "    result = [] \n",
    "    \n",
    "    for i in range(len(intervals)):\n",
    "        if newInterval[1] < intervals[i][0]: # se il maggiore e' piu piccolo del piu piccolo \n",
    "            result.append(newInterval)\n",
    "            return result + intervals[i:]\n",
    "        \n",
    "        elif newInterval[0] > intervals[i][1]: # se il minore e' piu grande del piu grande\n",
    "            result.append(intervals[i])\n",
    "        \n",
    "        else:5,7\n",
    "            newInterval = [ min(newInterval[0], intervals[i][0]), max(newInterval[1], intervals[i][1]) ]\n",
    "    \n",
    "    result.append(newInterval)\n",
    "    return result\n",
    "    \n",
    "#TEST \n",
    "intervals = [[1,2],[3,5],[6,7],[8,10],[12,16]]\n",
    "newInterval = [4,8]\n",
    "print(insert(intervals, newInterval))"
   ]
  }
 ],
 "metadata": {
  "interpreter": {
   "hash": "0b5cbd5bf4c1bb408dea0f13bce444fa2e5d9b008ae3f1392e57436f122a1e5d"
  },
  "kernelspec": {
   "display_name": "Python 3.9.7 64-bit",
   "language": "python",
   "name": "python3"
  },
  "language_info": {
   "codemirror_mode": {
    "name": "ipython",
    "version": 3
   },
   "file_extension": ".py",
   "mimetype": "text/x-python",
   "name": "python",
   "nbconvert_exporter": "python",
   "pygments_lexer": "ipython3",
   "version": "3.9.7"
  },
  "orig_nbformat": 4
 },
 "nbformat": 4,
 "nbformat_minor": 2
}
