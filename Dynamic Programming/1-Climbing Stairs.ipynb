{
 "cells": [
  {
   "cell_type": "markdown",
   "metadata": {},
   "source": [
    "PROBLEM LINK: https://leetcode.com/problems/climbing-stairs/\n",
    "PROBLEM SOLUTION: https://www.youtube.com/watch?v=Y0lT9Fck7qI"
   ]
  },
  {
   "cell_type": "markdown",
   "metadata": {},
   "source": [
    "- The idea is that to reach the n stair the steps you need are the sum of the steps to get to the n-1 stair + the steps to get to the n-2 stair. Which is translated in climbStairs(n) = climbStairs(n-1) + climbStairs(n-2). Given that is easy to think about a recursive solution using dynamic programming as the fibonacci series. the solution has a base case when n=1 and n=2 in fact in those point the value is respectively 1 and 2.\n",
    "The solution using this approach can be written as below.\n"
   ]
  },
  {
   "cell_type": "code",
   "execution_count": 4,
   "metadata": {},
   "outputs": [
    {
     "name": "stdout",
     "output_type": "stream",
     "text": [
      "89\n"
     ]
    }
   ],
   "source": [
    "# RECURSIVE SOLUTION\n",
    "def climbStairs(n: int) -> int:\n",
    "    if n==1:\n",
    "        return 1\n",
    "    if n==2:\n",
    "        return 2\n",
    "    count = climbStairs(n-1) + climbStairs(n-2)\n",
    "    return count\n",
    "\n",
    "print(climbStairs(10))"
   ]
  },
  {
   "cell_type": "code",
   "execution_count": null,
   "metadata": {},
   "outputs": [],
   "source": [
    "- This solution is correct but works in O(2^n). Why? because you need to travers the all binary tree with a maximum depth of n so 2^n passages.\n",
    "\n",
    "            0                       # depth 0\n",
    "    1               2               # depth 1\n",
    "2      3        3       4           # depth 2"
   ]
  },
  {
   "cell_type": "markdown",
   "metadata": {},
   "source": [
    "- To make this solution faster is possible to use \"memoization\" avoiding to recalcuate climbStairs(n) for a value that I already calculated. In the example above in the depth 1 I need to calcuate the 2 value which are 3 and 4. However, because the tree in traversed from the left I alrady calcuated this value in depth 2 for the same value 2 therefore if store this value I could use it then avoiding the recalculation. By doing that I almost just need to travers the tree once in all its depth to get all the values that I can reuse later avoiding recalculation of the same values. \n",
    "This approach can be written as below."
   ]
  },
  {
   "cell_type": "code",
   "execution_count": 6,
   "metadata": {},
   "outputs": [
    {
     "name": "stdout",
     "output_type": "stream",
     "text": [
      "89\n"
     ]
    }
   ],
   "source": [
    "# RECURSEIVE SOLUTION WITH MEMOIZATION\n",
    "values = {1:1, 2:2}     ## here I store each value I calcuate\n",
    "def climbStairs(n: int) -> int:\n",
    "    if n in values:     ## if I already calcuate climbStairs(n) I just return the value\n",
    "        return values[n]\n",
    "    else:               ## otherwise I calculate it and put into the values dictionary NB: use dictionary to make the search O(1)\n",
    "        values[n] = climbStairs(n-1) + climbStairs(n-2)\n",
    "    return values[n]\n",
    "\n",
    "print(climbStairs(10))"
   ]
  },
  {
   "cell_type": "markdown",
   "metadata": {},
   "source": []
  },
  {
   "cell_type": "markdown",
   "metadata": {},
   "source": [
    "- In this solution you need to completely traverse the three once to get all the possible values. And taking into account that the depth is n this means the solution is O(n) "
   ]
  }
 ],
 "metadata": {
  "interpreter": {
   "hash": "0b5cbd5bf4c1bb408dea0f13bce444fa2e5d9b008ae3f1392e57436f122a1e5d"
  },
  "kernelspec": {
   "display_name": "Python 3.9.7 64-bit",
   "language": "python",
   "name": "python3"
  },
  "language_info": {
   "codemirror_mode": {
    "name": "ipython",
    "version": 3
   },
   "file_extension": ".py",
   "mimetype": "text/x-python",
   "name": "python",
   "nbconvert_exporter": "python",
   "pygments_lexer": "ipython3",
   "version": "3.9.7"
  },
  "orig_nbformat": 4
 },
 "nbformat": 4,
 "nbformat_minor": 2
}
