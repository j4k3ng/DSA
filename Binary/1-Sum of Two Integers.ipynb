{
 "cells": [
  {
   "cell_type": "markdown",
   "metadata": {},
   "source": [
    "PROBLEM LINK: https://leetcode.com/problems/sum-of-two-integers/"
   ]
  },
  {
   "cell_type": "code",
   "execution_count": null,
   "metadata": {},
   "outputs": [],
   "source": [
    "- The idea is that to sum two integers we can use XOR and AND shifted (also called Carry<<1) in a while loop until the carry is zero and the XOR result is equal to the addition result.\n",
    "\n",
    "- Why this works? becaue the XOR simulate the binary sum and the carry takes into accoutn where 1+1 = 0 case. Then we need to shifted because of course the carry belongs to the next value in the sum. Example:\n",
    "      4 = 0011 \n",
    "      1 = 0001\n",
    "    XOR = 0010 // the XOR is really the addiction, what is missing is just the carry when you add 1+1.\n",
    "   CARRY= 0001 // as an AND operation it's only 1 when there is 1+1 and that's properly what we need.\n",
    "CARRY<<1= 0010 // shifting the carry means giving the carry to the where it belongs so on the left of the 1+1\n",
    "\n",
    "- Ex POSITIVE NUMBERS: 7+1=8 \n",
    "      7 = 0111\n",
    "      1 = 0001\n",
    "    XOR = 0110 (NB: true when only one is true)\n",
    "  CARRY = 0001 (NB: carry it's just the AND operator)\n",
    "CARRY<<1= 0010 (NB: carry shifted it's just shifting a value on the left)\n",
    "\n",
    "so XOR = 0110 = 6, CARRY<<1 = 0010 = 2 // I now will do it until the CARRY<<1 = 0 which means XOR = 8\n",
    "\n",
    "      6 = 0110\n",
    "      2 = 0010\n",
    "    XOR = 0100 = 4\n",
    "  CARRY = 0010\n",
    "CARRY<<1= 0100 = 4\n",
    "\n",
    "again:\n",
    "      4 = 0100\n",
    "      4 = 0100\n",
    "    XOR = 0000 = 0\n",
    "  CARRY = 0100\n",
    "CARRY<<1= 1000 = 8\n",
    "\n",
    "again:\n",
    "      0 = 0000\n",
    "      8 = 1000\n",
    "    XOR = 1000 = 8\n",
    "  CARRY = 1000\n",
    "CARRY<<1= 0000 = 0 // I Got 0 to the CARRY shifted so I can stop and the result is the last XOR = 8"
   ]
  },
  {
   "cell_type": "code",
   "execution_count": 3,
   "metadata": {},
   "outputs": [
    {
     "name": "stdout",
     "output_type": "stream",
     "text": [
      "8\n"
     ]
    },
    {
     "data": {
      "text/plain": [
       "8"
      ]
     },
     "execution_count": 3,
     "metadata": {},
     "output_type": "execute_result"
    }
   ],
   "source": [
    "## POSITIVE VALUES\n",
    "# In Python I can implement the XOR with \"a^b\" and the CARRY<<1 with \"(a&b)<<1\" \n",
    "def getSum(a: int, b: int) -> int:\n",
    "    while b:\n",
    "        XOR = a^b \n",
    "        CARRY1 = (a&b)<<1\n",
    "        a, b = XOR, CARRY1\n",
    "    print(a)\n",
    "    return a \n",
    "\n",
    "a = 7 \n",
    "b = 1\n",
    "getSum(a,b)"
   ]
  },
  {
   "cell_type": "markdown",
   "metadata": {},
   "source": []
  }
 ],
 "metadata": {
  "interpreter": {
   "hash": "0b5cbd5bf4c1bb408dea0f13bce444fa2e5d9b008ae3f1392e57436f122a1e5d"
  },
  "kernelspec": {
   "display_name": "Python 3.9.7 64-bit",
   "language": "python",
   "name": "python3"
  },
  "language_info": {
   "codemirror_mode": {
    "name": "ipython",
    "version": 3
   },
   "file_extension": ".py",
   "mimetype": "text/x-python",
   "name": "python",
   "nbconvert_exporter": "python",
   "pygments_lexer": "ipython3",
   "version": "3.9.7"
  },
  "orig_nbformat": 4
 },
 "nbformat": 4,
 "nbformat_minor": 2
}
