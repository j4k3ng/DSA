{
 "cells": [
  {
   "cell_type": "markdown",
   "metadata": {},
   "source": [
    "PROBLEM LINK : https://leetcode.com/problems/delete-node-in-a-bst/\n",
    "SOLUTION LINK : https://www.youtube.com/watch?v=i2s4Tyw3_dY, https://www.youtube.com/watch?v=gcULXE7ViZw, https://www.geeksforgeeks.org/binary-search-tree-set-2-delete/ "
   ]
  },
  {
   "cell_type": "code",
   "execution_count": 1,
   "metadata": {},
   "outputs": [
    {
     "name": "stdout",
     "output_type": "stream",
     "text": [
      "1\n",
      "3\n",
      "5\n",
      "6\n",
      "7\n"
     ]
    }
   ],
   "source": [
    "class Node():\n",
    "    def __init__(self, key):\n",
    "        self.key = key\n",
    "        self.left = None\n",
    "        self.right = None\n",
    "\n",
    "\n",
    "class Tree():\n",
    "\n",
    "    root = Node(None)\n",
    "\n",
    "    def in_order_traversal(self, node=root):\n",
    "        if node is None:\n",
    "            return\n",
    "        self.in_order_traversal(node.left)\n",
    "        print(node.key)\n",
    "        self.in_order_traversal(node.right)\n",
    "\n",
    "    def add(self, key, node=root):\n",
    "\n",
    "        if Tree.root.key is None:\n",
    "            Tree.root.key = key\n",
    "            return Tree.root.key\n",
    "\n",
    "        if node is None:\n",
    "            node = Node(key)\n",
    "            return node\n",
    "\n",
    "        if key <= node.key:\n",
    "            node.left = self.add(key, node.left)\n",
    "        if key > node.key:\n",
    "            node.right = self.add(key, node.right)\n",
    "        return node\n",
    "\n",
    "    def getMinimumRightSubTree(self, node):\n",
    "        while node.left:\n",
    "            node = node.left \n",
    "        return node \n",
    "\n",
    "    def delete(self, key, node=root):\n",
    "        # find the key first\n",
    "        if node is None:\n",
    "            return node\n",
    "\n",
    "        elif key < node.key:\n",
    "            node.left = self.delete(key, node.left)\n",
    "        elif key > node.key:\n",
    "            node.right = self.delete(key, node.right)\n",
    "\n",
    "        elif key == node.key:  # STARTING OF THE PROBLEM:\n",
    "\n",
    "            if node.left is None and node.right is None:    # IF DOESNT HAVE CHILDREN JUST DELETE IT\n",
    "                node = None\n",
    "                \n",
    "\n",
    "            elif node.left is None:   # IF IT HAS ONLY ONE RIGHT CHILD, I JUST PUT THE NODE EQUAL TO THIS CHILD\n",
    "                node = node.right\n",
    "                \n",
    "\n",
    "            elif node.right is None:  # IF IT HAS ONLY ONE LEFT CHILD, I JUST PUT THE NODE EQUAL TO THIS CHILD\n",
    "                node = node.left\n",
    "            \n",
    "            else:   # IF IT HAS BOTH CHILDREN I NEED TO FIND THE SMALLER VALUE ON THE RIGHT SUBTREE AND THEN SUBSTITUE TO THE NODE I WANT TO DELETE. \n",
    "                    # THIS WORKS BECAUSE THE MOST LEFT OF THE RIGHT SUBTREE IS STILL BIGGER THAN ALL THE VALUES ON THE LEFT SUBTREE AND ADDITIONALLY\n",
    "                    # I KNOW FOR SURE THAT THE SMALLER ON THE RIGHT SUBTREE HAS AT MAX 1 CHILD (A RIGHT CHILD OTHERWISE COULDNT BE THE SMALLER ON THE RIGHT SUBTREE)\n",
    "                    # FINALLY I NEED TO DELETE THIS MINIMUM RIGHT VALUE FROM THE RIGHT SUBTREE\n",
    "\n",
    "                min_right_subtree = self.getMinimumRightSubTree(node.right) # THIS FUNCTION STOP WHEN I GOT THE THE LEFTEST VALUE OF THE RIGHT CHILD\n",
    "                node.key = min_right_subtree.key # HERE I SET THE VALUE OF THE NODE I WANT TO DELETE EQUAL TO THE MIN_RIGHT_NODE\n",
    "                node.right = self.delete(min_right_subtree.key, node.right) # HERE I NEED TO DELETE THE MIN_RIGHT_SUBTREE BY JUST RECALLING THE FUNCTION\n",
    "            \n",
    "            return node\n",
    "\n",
    "\n",
    "tree = Tree()\n",
    "tree.add(5)\n",
    "tree.add(2)\n",
    "tree.add(6)\n",
    "tree.add(1)\n",
    "tree.add(4)\n",
    "tree.add(3)\n",
    "tree.add(7)\n",
    "\n",
    "tree.delete(2)\n",
    "\n",
    "tree.in_order_traversal()\n"
   ]
  }
 ],
 "metadata": {
  "interpreter": {
   "hash": "0b5cbd5bf4c1bb408dea0f13bce444fa2e5d9b008ae3f1392e57436f122a1e5d"
  },
  "kernelspec": {
   "display_name": "Python 3.9.7 64-bit",
   "language": "python",
   "name": "python3"
  },
  "language_info": {
   "codemirror_mode": {
    "name": "ipython",
    "version": 3
   },
   "file_extension": ".py",
   "mimetype": "text/x-python",
   "name": "python",
   "nbconvert_exporter": "python",
   "pygments_lexer": "ipython3",
   "version": "3.9.7"
  },
  "orig_nbformat": 4
 },
 "nbformat": 4,
 "nbformat_minor": 2
}
