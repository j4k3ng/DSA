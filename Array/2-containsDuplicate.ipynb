{
 "cells": [
  {
   "cell_type": "markdown",
   "metadata": {},
   "source": [
    "PROBLEM LINK: https://leetcode.com/problems/contains-duplicate/"
   ]
  },
  {
   "cell_type": "markdown",
   "metadata": {},
   "source": [
    "- The idea is to do it in O(n), basically we go for the all list and for each value we add to the dictionary O(1). If we found the value is already in the dictionary we return True because means the value happens twice in the nums list.\n",
    "The for loop is O(n) and the search and add on dictionary is O(1) so finally time complexity is O(n)*O(1) = O(n)\n"
   ]
  },
  {
   "cell_type": "code",
   "execution_count": 3,
   "metadata": {},
   "outputs": [
    {
     "name": "stdout",
     "output_type": "stream",
     "text": [
      "True\n"
     ]
    }
   ],
   "source": [
    "def containsDuplicate(nums):\n",
    "    dicty = {}\n",
    "    for value in nums:\n",
    "        if value in dicty:\n",
    "            return True \n",
    "        else:\n",
    "            dicty[value] = 1 \n",
    "    return False\n",
    "\n",
    "print(containsDuplicate([1,1,1,3,3,4,3,2,4,2]))"
   ]
  }
 ],
 "metadata": {
  "interpreter": {
   "hash": "0b5cbd5bf4c1bb408dea0f13bce444fa2e5d9b008ae3f1392e57436f122a1e5d"
  },
  "kernelspec": {
   "display_name": "Python 3.9.7 64-bit",
   "language": "python",
   "name": "python3"
  },
  "language_info": {
   "codemirror_mode": {
    "name": "ipython",
    "version": 3
   },
   "file_extension": ".py",
   "mimetype": "text/x-python",
   "name": "python",
   "nbconvert_exporter": "python",
   "pygments_lexer": "ipython3",
   "version": "3.9.7"
  },
  "orig_nbformat": 4
 },
 "nbformat": 4,
 "nbformat_minor": 2
}
