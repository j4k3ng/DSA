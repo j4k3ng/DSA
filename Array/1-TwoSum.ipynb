{
 "cells": [
  {
   "cell_type": "markdown",
   "metadata": {},
   "source": [
    "PROBLEM LINK: https://leetcode.com/problems/two-sum/"
   ]
  },
  {
   "cell_type": "code",
   "execution_count": 2,
   "metadata": {},
   "outputs": [
    {
     "data": {
      "text/plain": [
       "[0, 1]"
      ]
     },
     "execution_count": 2,
     "metadata": {},
     "output_type": "execute_result"
    }
   ],
   "source": [
    "def twoSum(nums: [int], target: int) -> [int]:\n",
    "    dicty = {}\n",
    "    for indx in range(len(nums)):\n",
    "        difference = target - nums[indx]\n",
    "        if difference in dicty:\n",
    "            return [dicty[difference], indx]\n",
    "        else:\n",
    "            dicty[nums[indx]] = indx\n",
    "\n",
    "#TEST\n",
    "nums = [2,7,11,15]\n",
    "target = 9 \n",
    "twoSum( nums, target)"
   ]
  },
  {
   "cell_type": "markdown",
   "metadata": {},
   "source": [
    "- The brute force is O(n^2) because you need to try each value n times and there are n values in the array.\n",
    "- The correct solution is to check if the difference between the i-value and the target is in the dict which is O(1) and doing it n-times for all the value in the array by adding each value if false. So at the end the result is O(n)."
   ]
  }
 ],
 "metadata": {
  "interpreter": {
   "hash": "0b5cbd5bf4c1bb408dea0f13bce444fa2e5d9b008ae3f1392e57436f122a1e5d"
  },
  "kernelspec": {
   "display_name": "Python 3.9.7 64-bit",
   "language": "python",
   "name": "python3"
  },
  "language_info": {
   "codemirror_mode": {
    "name": "ipython",
    "version": 3
   },
   "file_extension": ".py",
   "mimetype": "text/x-python",
   "name": "python",
   "nbconvert_exporter": "python",
   "pygments_lexer": "ipython3",
   "version": "3.9.7"
  },
  "orig_nbformat": 4
 },
 "nbformat": 4,
 "nbformat_minor": 2
}
