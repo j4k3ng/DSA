{
 "cells": [
  {
   "cell_type": "markdown",
   "metadata": {},
   "source": [
    "PROBLEM LINK: https://leetcode.com/problems/valid-anagram/"
   ]
  },
  {
   "cell_type": "markdown",
   "metadata": {},
   "source": [
    "- The idea is to add each caracther of the string s in a dictionary dicty_s and the same for string t in dicty_t with the respected number of times the character appear in the strings. All of this is O(n) because I need to go to the all list to add the value in the dictionary and O(1) to check if is already present on it So overall this two steps is O(n).\n",
    "Then I go throught all the keys of one of the two dictionary and if the key is not present in the other dictionary or the times is present is different return False. Else return True \n"
   ]
  },
  {
   "cell_type": "code",
   "execution_count": 7,
   "metadata": {},
   "outputs": [
    {
     "name": "stdout",
     "output_type": "stream",
     "text": [
      "False\n"
     ]
    }
   ],
   "source": [
    "def isAnagram(s, t) -> bool:\n",
    "    if len(s) != len(t):\n",
    "        return False\n",
    "        \n",
    "    dicty_s = {}\n",
    "    for char in s:\n",
    "        if char in dicty_s:\n",
    "            dicty_s[char] +=1 \n",
    "        else:\n",
    "            dicty_s[char] = 1\n",
    "\n",
    "    dicty_t = {}\n",
    "    for char in t:\n",
    "        if char in dicty_t:\n",
    "            dicty_t[char] +=1 \n",
    "        else:\n",
    "            dicty_t[char] = 1\n",
    "    \n",
    "\n",
    "    for key in dicty_s.keys():\n",
    "        if key not in dicty_t:\n",
    "            return False\n",
    "        \n",
    "        if dicty_s[key] != dicty_t[key]:\n",
    "            return False\n",
    "        \n",
    "    return True\n",
    "\n",
    "\n",
    "s = \"rat\"\n",
    "t = \"car\"\n",
    "print(isAnagram(s, t))"
   ]
  }
 ],
 "metadata": {
  "kernelspec": {
   "display_name": "Python 3.9.7 64-bit",
   "language": "python",
   "name": "python3"
  },
  "language_info": {
   "codemirror_mode": {
    "name": "ipython",
    "version": 3
   },
   "file_extension": ".py",
   "mimetype": "text/x-python",
   "name": "python",
   "nbconvert_exporter": "python",
   "pygments_lexer": "ipython3",
   "version": "3.9.7"
  },
  "orig_nbformat": 4,
  "vscode": {
   "interpreter": {
    "hash": "0b5cbd5bf4c1bb408dea0f13bce444fa2e5d9b008ae3f1392e57436f122a1e5d"
   }
  }
 },
 "nbformat": 4,
 "nbformat_minor": 2
}
