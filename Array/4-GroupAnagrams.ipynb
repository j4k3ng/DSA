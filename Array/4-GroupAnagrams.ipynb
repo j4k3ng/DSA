{
 "cells": [
  {
   "cell_type": "code",
   "execution_count": null,
   "metadata": {},
   "outputs": [],
   "source": [
    "PROBLEM LINK: https://leetcode.com/problems/group-anagrams/submissions/"
   ]
  },
  {
   "cell_type": "markdown",
   "metadata": {},
   "source": [
    "- The idea is that an anagram the words have the same number of characters. Therefore I can create an ordinated array and increment each word by using ord(char) Ex: aba => array = [2,1]. Now I can use this as a the key in a dictionary where I append each word (NB: before use as a key I need to hash the list cause a dictonary doesnt accept a list as a key only strings and numbers). Finally, I put each key in the dicty inside an array and return that array."
   ]
  },
  {
   "cell_type": "code",
   "execution_count": 1,
   "metadata": {},
   "outputs": [
    {
     "name": "stdout",
     "output_type": "stream",
     "text": [
      "[['eat', 'tea', 'ate'], ['tan', 'nat'], ['bat']]\n"
     ]
    }
   ],
   "source": [
    "def groupAnagrams(strs):\n",
    "    dicty = {}\n",
    "    for word in strs:\n",
    "        array = [0] * 128\n",
    "        for char in word:\n",
    "            array[ord(char)] += 1\n",
    "        \n",
    "        hash = str(array)\n",
    "        if hash not in dicty:\n",
    "            dicty[hash] = [word] \n",
    "        else:\n",
    "            dicty[hash].append(word) \n",
    "            \n",
    "    return_array = []\n",
    "    for key, values in dicty.items():\n",
    "        return_array.append(values)\n",
    "    \n",
    "    return return_array\n",
    "\n",
    "#TEST\n",
    "strs = [\"eat\",\"tea\",\"tan\",\"ate\",\"nat\",\"bat\"]\n",
    "print(groupAnagrams(strs))\n",
    "        "
   ]
  }
 ],
 "metadata": {
  "kernelspec": {
   "display_name": "Python 3.9.7 64-bit",
   "language": "python",
   "name": "python3"
  },
  "language_info": {
   "codemirror_mode": {
    "name": "ipython",
    "version": 3
   },
   "file_extension": ".py",
   "mimetype": "text/x-python",
   "name": "python",
   "nbconvert_exporter": "python",
   "pygments_lexer": "ipython3",
   "version": "3.9.7"
  },
  "orig_nbformat": 4,
  "vscode": {
   "interpreter": {
    "hash": "0b5cbd5bf4c1bb408dea0f13bce444fa2e5d9b008ae3f1392e57436f122a1e5d"
   }
  }
 },
 "nbformat": 4,
 "nbformat_minor": 2
}
